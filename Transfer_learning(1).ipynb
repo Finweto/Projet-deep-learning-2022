{
  "cells": [
    {
      "cell_type": "markdown",
      "source": [
        "# CNN Transfert learning avec ResNet"
      ],
      "metadata": {
        "id": "E2dPIOe56tMV"
      }
    },
    {
      "cell_type": "markdown",
      "metadata": {
        "id": "7-diCsctWfSh"
      },
      "source": [
        "## Import des données"
      ]
    },
    {
      "cell_type": "code",
      "source": [
        "!git clone -b dev https://github.com/Finweto/Projet-deep-learning-2022.git\n",
        "!ls "
      ],
      "metadata": {
        "id": "kvV1ShG14BL5"
      },
      "execution_count": null,
      "outputs": []
    },
    {
      "cell_type": "markdown",
      "source": [
        "##Utilisation d'une GPU"
      ],
      "metadata": {
        "id": "FPi-_evyWGy8"
      }
    },
    {
      "cell_type": "code",
      "execution_count": null,
      "metadata": {
        "id": "-S9vf7TtjjMa"
      },
      "outputs": [],
      "source": [
        "!nvidia-smi"
      ]
    },
    {
      "cell_type": "markdown",
      "metadata": {
        "id": "N5hheTPDcdqN"
      },
      "source": [
        "## Import des librairies nécessaires"
      ]
    },
    {
      "cell_type": "code",
      "execution_count": null,
      "metadata": {
        "id": "SvZJ4yH6cNHE"
      },
      "outputs": [],
      "source": [
        "import itertools\n",
        "import os\n",
        "import pathlib\n",
        "import random\n",
        "import typing\n",
        "\n",
        "import cv2\n",
        "import matplotlib.pyplot as plt\n",
        "import numpy as np\n",
        "import pandas as pd\n",
        "import seaborn\n",
        "import sklearn.utils\n",
        "import sklearn.metrics\n",
        "import tensorflow as tf\n",
        "import keras\n",
        "\n",
        "from keras.models import Sequential\n",
        "from keras.layers import RandomFlip, RandomZoom, RandomRotation"
      ]
    },
    {
      "cell_type": "markdown",
      "metadata": {
        "id": "9zCSZcuhczAn"
      },
      "source": [
        "## Préparation des données\n",
        "\n"
      ]
    },
    {
      "cell_type": "code",
      "execution_count": null,
      "metadata": {
        "id": "-kv62rzC3wIO"
      },
      "outputs": [],
      "source": [
        "label_names = [\"convolvulaceae\",\"monimiaceae\",\"amborella\",\"castanea\",\"desmodium\",\"eugenia\",\n",
        "              \"laurus\",\"litsea\",\"magnolia\",\"rubus\",\"ulmus\"]\n",
        "\n",
        "def get_images(filename):\n",
        "\n",
        "  df=pd.read_csv(filename)\n",
        "  df=df.sample(frac=1).reset_index(drop=True)\n",
        "\n",
        "  images = []\n",
        "  labels = []\n",
        "\n",
        "  for i in range(len(df[\"label\"])):\n",
        "    path=\"Projet-deep-learning-2022/\"+df[\"img_path\"][i]\n",
        "\n",
        "    image=cv2.imread(path)\n",
        "    image=cv2.resize(image,(224,224))\n",
        "    images.append(image)\n",
        "\n",
        "    label=df[\"label\"][i]\n",
        "    labels.append(label)\n",
        "\n",
        "  return images,labels\n",
        "\n",
        "label_to_index = {l: i for i, l in enumerate(label_names)}"
      ]
    },
    {
      "cell_type": "code",
      "execution_count": null,
      "metadata": {
        "id": "mlWHQMqbgUi_"
      },
      "outputs": [],
      "source": [
        "images, labels= get_images(\"Projet-deep-learning-2022/data_train_labeled_v3.csv\")\n",
        "images_test,labels_test=get_images(\"Projet-deep-learning-2022/data_test_labeled_v3.csv\")"
      ]
    },
    {
      "cell_type": "code",
      "source": [
        "from sklearn.model_selection import train_test_split\n",
        "\n",
        "images, images_validation, labels, labels_validation = train_test_split(images, labels, stratify=labels, test_size=0.2) # before model building"
      ],
      "metadata": {
        "id": "EMzmUD7BIHSM"
      },
      "execution_count": null,
      "outputs": []
    },
    {
      "cell_type": "code",
      "execution_count": null,
      "metadata": {
        "id": "4equd-uY3_T7"
      },
      "outputs": [],
      "source": [
        "images=np.array(images)\n",
        "labels=np.array(labels)\n",
        "\n",
        "images_test=np.array(images_test)\n",
        "labels_test=np.array(labels_test)\n",
        "\n",
        "images_validation=np.array(images_validation)\n",
        "labels_validation=np.array(labels_validation)\n",
        "\n",
        "labels_int=[label_names.index(x) for x in labels]\n",
        "labels_int=np.array(labels_int)\n",
        "\n",
        "labels_test_int=[label_names.index(x) for x in labels_test]\n",
        "labels_test_int=np.array(labels_test_int)\n",
        "\n",
        "labels_validation_int=[label_names.index(x) for x in labels_validation]\n",
        "labels_validation_int=np.array(labels_validation_int)"
      ]
    },
    {
      "cell_type": "code",
      "source": [
        "from keras.preprocessing.image import ImageDataGenerator\n",
        "\n",
        "datagen=ImageDataGenerator()\n",
        "\n",
        "train_augm = datagen.flow(images, labels_int, batch_size=30, shuffle=True)\n",
        "valid_augm = datagen.flow(images_validation, labels_validation_int, batch_size=30,shuffle=True)\n"
      ],
      "metadata": {
        "id": "NKrzYl4lptoT"
      },
      "execution_count": null,
      "outputs": []
    },
    {
      "cell_type": "markdown",
      "source": [
        "## Affichage des données"
      ],
      "metadata": {
        "id": "tmuBn4C_Xa3d"
      }
    },
    {
      "cell_type": "code",
      "execution_count": null,
      "metadata": {
        "id": "Z9CFPgYahZ-_"
      },
      "outputs": [],
      "source": [
        "seaborn.countplot(x=labels)\n",
        "plt.title(\"Décomptes des différents labels\")\n",
        "plt.ylabel(\"Décompte\")\n",
        "plt.xlabel(\"Label\")\n",
        "plt.show()"
      ]
    },
    {
      "cell_type": "code",
      "execution_count": null,
      "metadata": {
        "id": "hRP8sepdhh8I"
      },
      "outputs": [],
      "source": [
        "import random\n",
        "\n",
        "# generation d'index aleatoires\n",
        "random_indexes = []\n",
        "for i in range(15):\n",
        "  random_index = random.randint(0,20)\n",
        "  if (random_index not in random_indexes):\n",
        "    random_indexes.append(random_index)\n",
        "\n",
        "# affichage d'exemples d'images et de leur label\n",
        "\n",
        "for i in range(1,len(random_indexes)):\n",
        "  plt.figure()\n",
        "  random_index= random_indexes[i]\n",
        "  plt.imshow(images[random_index])\n",
        "  plt.title('Exemple ['+str(random_index)+'] '+labels[random_index])\n",
        "  plt.axis('off')\n",
        " \n",
        "plt.show()"
      ]
    },
    {
      "cell_type": "markdown",
      "source": [
        "## Modèle de transfer learning avec ResNet101\n"
      ],
      "metadata": {
        "id": "JoqCcCGyBbiQ"
      }
    },
    {
      "cell_type": "code",
      "source": [
        "from keras.applications import ResNet101\n",
        "from keras import layers\n",
        "from sklearn.model_selection import KFold\n",
        "\n",
        "epochs=200\n",
        "\n",
        "# Define the K-fold Cross Validator\n",
        "kfold = KFold(n_splits=num_folds, shuffle=True)\n",
        "\n",
        "# K-fold Cross Validation model evaluation\n",
        "fold_no = 1\n",
        "for train, test in kfold.split(inputs, targets):\n",
        "\n",
        "\n",
        "pretrained = keras.Sequential([\n",
        "    ResNet101(input_shape=(224,224,3), weights=\"imagenet\", include_top=False)\n",
        "],name=\"densenet\")\n",
        "\n",
        "pretrained.trainable = False\n",
        "\n",
        "\n",
        "model = keras.Sequential([\n",
        "    pretrained,\n",
        "    layers.GlobalAveragePooling2D(),\n",
        "    layers.Dropout(0.5),\n",
        "    layers.Dense(128,activation = \"relu\"),\n",
        "    layers.Dropout(0.5),\n",
        "    layers.Dense(256,activation = \"relu\"),\n",
        "    layers.Dropout(0.5),\n",
        "    layers.Dense(units=11, activation='Softmax')\n",
        "], name=\"model\")"
      ],
      "metadata": {
        "id": "3WlXO4P5Bh2P"
      },
      "execution_count": null,
      "outputs": []
    },
    {
      "cell_type": "code",
      "source": [
        "model.compile(\n",
        "    loss=\"sparse_categorical_crossentropy\",\n",
        "    metrics=['acc'],\n",
        "    optimizer=keras.optimizers.Adam(learning_rate=0.001),\n",
        ")"
      ],
      "metadata": {
        "id": "TwP76vx_GBmq"
      },
      "execution_count": null,
      "outputs": []
    },
    {
      "cell_type": "code",
      "source": [
        "import math\n",
        "from keras.callbacks import EarlyStopping, ReduceLROnPlateau, ModelCheckpoint\n",
        "\n",
        "early = EarlyStopping(monitor=\"val_loss\",\n",
        "                      patience=math.floor(epochs*0.1))\n",
        "\n",
        "learning_rate_reduction = ReduceLROnPlateau(monitor=\"val_loss\",\n",
        "                                             patience=2,\n",
        "                                             verbose=1,\n",
        "                                             factor=0.3,\n",
        "                                             min_lr=0.000001)\n",
        "\n",
        "model_checkpoint_callback = ModelCheckpoint(\n",
        "    filepath='model',\n",
        "    save_weights_only=True,\n",
        "    monitor='val_acc',\n",
        "    mode='max',\n",
        "    save_best_only=True)\n",
        "\n",
        "\n",
        "training = model.fit(\n",
        "    train_augm,\n",
        "    validation_data=valid_augm,\n",
        "    epochs=epochs,\n",
        "    callbacks=[early,model_checkpoint_callback]\n",
        ")"
      ],
      "metadata": {
        "id": "SVU-9maRBiwp"
      },
      "execution_count": null,
      "outputs": []
    },
    {
      "cell_type": "markdown",
      "source": [
        "## Affichage de l'entrainement"
      ],
      "metadata": {
        "id": "UWMtDbb4WaCE"
      }
    },
    {
      "cell_type": "code",
      "execution_count": null,
      "metadata": {
        "id": "K-j7dwcWUdZx"
      },
      "outputs": [],
      "source": [
        "# Plot des métriques d'entraînement\n",
        "def plot_metrics(history) -> None:\n",
        "  plt.plot(training.history[\"acc\"])\n",
        "  plt.plot(training.history[\"val_accuracy\"])\n",
        "  plt.title(\"Accuracy du modèle\")\n",
        "  plt.ylabel(\"Accuracy\")\n",
        "  plt.xlabel(\"Epoch\")\n",
        "  plt.legend([\"Entraînement\", \"Validation\"], loc=\"upper left\")\n",
        "  plt.show()\n",
        "\n",
        "  plt.plot(training.history[\"loss\"])\n",
        "  plt.plot(training.history[\"val_loss\"])\n",
        "  plt.title(\"Perte du modèle\")\n",
        "  plt.ylabel(\"Perte\")\n",
        "  plt.xlabel(\"Epoch\")\n",
        "  plt.legend([\"Entraînement\", \"Validation\"], loc=\"upper right\")\n",
        "  plt.show()"
      ]
    },
    {
      "cell_type": "code",
      "source": [
        "plot_metrics(training.history)"
      ],
      "metadata": {
        "id": "3tvNWgFuBjHX"
      },
      "execution_count": null,
      "outputs": []
    },
    {
      "cell_type": "markdown",
      "metadata": {
        "id": "hb_IT9QWeYPh"
      },
      "source": [
        "## Évaluation des performances sur l'ensemble de test\n"
      ]
    },
    {
      "cell_type": "code",
      "source": [
        "# Modèle obtenu à la fin de l'entrainement\n",
        "\n",
        "model.evaluate(images_test, labels_test_int)"
      ],
      "metadata": {
        "id": "9ckD7Eajtl7D"
      },
      "execution_count": null,
      "outputs": []
    },
    {
      "cell_type": "code",
      "execution_count": null,
      "metadata": {
        "id": "pJubx-J7i882"
      },
      "outputs": [],
      "source": [
        "# Modèle le plus optimisé de l'entrainement\n",
        "\n",
        "modelopti = model\n",
        "\n",
        "modelopti.load_weights('model')\n",
        "\n",
        "modelopti.compile(\n",
        "    loss=\"sparse_categorical_crossentropy\",\n",
        "    metrics=['acc'],\n",
        "    optimizer=keras.optimizers.Adam(learning_rate=0.001),\n",
        ")\n",
        "\n",
        "modelopti.evaluate(images_test,labels_test_int)"
      ]
    },
    {
      "cell_type": "markdown",
      "metadata": {
        "id": "RYPaPc0lpe0B"
      },
      "source": [
        "## Analyse d'erreur\n",
        "\n",
        "On affiche la matrice de confusion pour voir quels labels sont le mieux prédit."
      ]
    },
    {
      "cell_type": "code",
      "execution_count": null,
      "metadata": {
        "id": "mfOlRq1Ep3KD"
      },
      "outputs": [],
      "source": [
        "def analyze_preds(preds, labels):\n",
        "  confusion_matrix = sklearn.metrics.confusion_matrix(preds,\n",
        "                                                      labels,\n",
        "                                                      normalize=\"true\")\n",
        "  seaborn.heatmap(confusion_matrix,\n",
        "                  cmap=\"rocket_r\",\n",
        "                  xticklabels=label_names,\n",
        "                  yticklabels=label_names)\n",
        "  plt.title(\"Matrice de confusion\")\n",
        "  plt.show()\n",
        "\n",
        "  seaborn.countplot(x=list(map(lambda x: label_names[x], preds)))\n",
        "  plt.title(\"Décomptes des classes prédites\")\n",
        "  plt.ylabel(\"Décompte\")\n",
        "  plt.xlabel(\"Class\")\n",
        "  plt.show()\n",
        "\n",
        "\n",
        "test_pred = np.argmax(model.predict(images_test), axis=-1)\n",
        "analyze_preds(test_pred, labels_test_int)"
      ]
    }
  ],
  "metadata": {
    "accelerator": "GPU",
    "colab": {
      "machine_shape": "hm",
      "private_outputs": true,
      "provenance": []
    },
    "gpuClass": "standard",
    "kernelspec": {
      "display_name": "Python 3.8.10 64-bit",
      "language": "python",
      "name": "python3"
    },
    "language_info": {
      "codemirror_mode": {
        "name": "ipython",
        "version": 3
      },
      "file_extension": ".py",
      "mimetype": "text/x-python",
      "name": "python",
      "nbconvert_exporter": "python",
      "pygments_lexer": "ipython3",
      "version": "3.8.10"
    },
    "vscode": {
      "interpreter": {
        "hash": "31f2aee4e71d21fbe5cf8b01ff0e069b9275f58929596ceb00d14d90e3e16cd6"
      }
    }
  },
  "nbformat": 4,
  "nbformat_minor": 0
}