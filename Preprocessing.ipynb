{
  "cells": [
    {
      "cell_type": "markdown",
      "metadata": {
        "id": "X3D1Lsmw_i_x"
      },
      "source": [
        "# Preprocessing"
      ]
    },
    {
      "cell_type": "markdown",
      "metadata": {
        "id": "0VM1DJVs_yD_"
      },
      "source": [
        "## Installation/import bibliothèques"
      ]
    },
    {
      "cell_type": "code",
      "execution_count": null,
      "metadata": {
        "id": "W9xXCq-hgWYC"
      },
      "outputs": [],
      "source": [
        "!pip install keras-ocr"
      ]
    },
    {
      "cell_type": "code",
      "execution_count": null,
      "metadata": {
        "id": "25xIZnzKS_TF"
      },
      "outputs": [],
      "source": [
        "!nvidia-smi"
      ]
    },
    {
      "cell_type": "code",
      "execution_count": 4,
      "metadata": {
        "id": "GFvLKReeFx7w"
      },
      "outputs": [],
      "source": [
        "import cv2\n",
        "import numpy as np\n",
        "from google.colab.patches import cv2_imshow\n",
        "import matplotlib.pyplot as plt\n",
        "\n",
        "import os\n",
        "import pathlib\n",
        "import keras_ocr\n",
        "import math"
      ]
    },
    {
      "cell_type": "markdown",
      "metadata": {
        "id": "gcPidUm9ABgF"
      },
      "source": [
        "## Import des données"
      ]
    },
    {
      "cell_type": "code",
      "execution_count": null,
      "metadata": {
        "id": "euYehMmjGMAX"
      },
      "outputs": [],
      "source": [
        "!git clone -b dev https://github.com/Finweto/Projet-deep-learning-2022.git\n",
        "!ls"
      ]
    },
    {
      "cell_type": "markdown",
      "metadata": {
        "id": "IVvCi95fAGc9"
      },
      "source": [
        "## Fonction de preprocessing"
      ]
    },
    {
      "cell_type": "markdown",
      "metadata": {
        "id": "4e7zV2hUAJEn"
      },
      "source": [
        "### Fonction de resize de l'image"
      ]
    },
    {
      "cell_type": "code",
      "execution_count": 5,
      "metadata": {
        "id": "xrVceL8VnjQy"
      },
      "outputs": [],
      "source": [
        "def resize_image(img, size=(28,28)):\n",
        "\n",
        "    h, w = img.shape[:2]\n",
        "    c = img.shape[2] if len(img.shape)>2 else 1\n",
        "\n",
        "    if h == w: \n",
        "        return cv2.resize(img, size, cv2.INTER_AREA)\n",
        "\n",
        "    dif = h if h > w else w\n",
        "\n",
        "    interpolation = cv2.INTER_AREA if dif > (size[0]+size[1])//2 else cv2.INTER_CUBIC\n",
        "\n",
        "    x_pos = (dif - w)//2\n",
        "    y_pos = (dif - h)//2\n",
        "\n",
        "    if len(img.shape) == 2:\n",
        "        mask = np.zeros((dif, dif), dtype=img.dtype)\n",
        "        mask[y_pos:y_pos+h, x_pos:x_pos+w] = img[:h, :w]\n",
        "    else:\n",
        "        mask = np.zeros((dif, dif, c), dtype=img.dtype)\n",
        "        mask[y_pos:y_pos+h, x_pos:x_pos+w, :] = img[:h, :w, :]\n",
        "\n",
        "    return cv2.resize(mask, size, interpolation)"
      ]
    },
    {
      "cell_type": "markdown",
      "metadata": {
        "id": "q3eZVTL6AM9V"
      },
      "source": [
        "### Fonction de kmeans"
      ]
    },
    {
      "cell_type": "code",
      "execution_count": 6,
      "metadata": {
        "id": "X51S9W9uFx7z"
      },
      "outputs": [],
      "source": [
        "def kmeans(img):\n",
        "\n",
        "  Z = img.reshape((-1,3))\n",
        "  # convert to np.float32\n",
        "  Z = np.float32(Z)\n",
        "  # define criteria, number of clusters(K) and apply kmeans()\n",
        "  criteria = (cv2.TERM_CRITERIA_EPS + cv2.TERM_CRITERIA_MAX_ITER, 10, 1.0)\n",
        "\n",
        "  K = 3\n",
        "\n",
        "  attemps = 10\n",
        "  #ret,label,centers=cv2.kmeans(Z,K,None,criteria,10,cv2.KMEANS_RANDOM_CENTERS)\n",
        "  _,labels,(centers)=cv2.kmeans(Z, K, None, criteria, 10, cv2.KMEANS_RANDOM_CENTERS)\n",
        "  # Now convert back into uint8, and make original image\n",
        "\n",
        "  centers = np.uint8(centers)\n",
        "  res = centers[labels.flatten()]\n",
        "  res2 = res.reshape((img.shape))\n",
        "\n",
        "  return res2"
      ]
    },
    {
      "cell_type": "markdown",
      "metadata": {
        "id": "1ksvLopmAPZ9"
      },
      "source": [
        "### Fonction de suppression du texte"
      ]
    },
    {
      "cell_type": "code",
      "execution_count": 7,
      "metadata": {
        "id": "KDPBCWSsgSci"
      },
      "outputs": [],
      "source": [
        "def midpoint(x1, y1, x2, y2):\n",
        "    x_mid = int((x1 + x2)/2)\n",
        "    y_mid = int((y1 + y2)/2)\n",
        "    return (x_mid, y_mid)\n",
        "\n",
        "def inpaint_text(img_path, pipeline):\n",
        "    # read image\n",
        "    img = keras_ocr.tools.read(img_path)\n",
        "    # generate (word, box) tuples \n",
        "    prediction_groups = pipeline.recognize([img])\n",
        "    mask = np.zeros(img.shape[:2], dtype=\"uint8\")\n",
        "    for box in prediction_groups[0]:\n",
        "        x0, y0 = box[1][0]\n",
        "        x1, y1 = box[1][1] \n",
        "        x2, y2 = box[1][2]\n",
        "        x3, y3 = box[1][3] \n",
        "        \n",
        "        x_mid0, y_mid0 = midpoint(x1, y1, x2, y2)\n",
        "        x_mid1, y_mi1 = midpoint(x0, y0, x3, y3)\n",
        "        \n",
        "        thickness = int(math.sqrt( (x2 - x1)**2 + (y2 - y1)**2 ))\n",
        "        \n",
        "        cv2.line(mask, (x_mid0, y_mid0), (x_mid1, y_mi1), 255,    \n",
        "        thickness)\n",
        "        img = cv2.inpaint(img, mask, 7, cv2.INPAINT_NS)\n",
        "                 \n",
        "    return(img)"
      ]
    },
    {
      "cell_type": "markdown",
      "metadata": {
        "id": "Ubtxm0uGAUM1"
      },
      "source": [
        "### Preprocessing des images\n",
        "\n",
        "Les données préparées sont envoyées dans le dossier dataset."
      ]
    },
    {
      "cell_type": "code",
      "execution_count": 17,
      "metadata": {
        "id": "-EeSgr3MTUoW"
      },
      "outputs": [],
      "source": [
        "def preprocess_dataset(dir_path: pathlib.Path):\n",
        "  os.mkdir('/content/dataset')\n",
        "  pipeline = keras_ocr.pipeline.Pipeline()\n",
        "  for subdir_path in dir_path.iterdir():\n",
        "\n",
        "    new_path = '/content/dataset'\n",
        "    os.mkdir(new_path+\"/\"+os.path.basename(subdir_path))\n",
        "\n",
        "    for plant_dir_path in subdir_path.iterdir():\n",
        "\n",
        "      new_plant_dir_path = str(new_path)+\"/\"+os.path.basename(subdir_path)+\"/\"+os.path.basename(plant_dir_path)\n",
        "      \n",
        "      os.mkdir(str(new_plant_dir_path))\n",
        "\n",
        "      for image_path in plant_dir_path.iterdir():\n",
        "\n",
        "        image = cv2.imread(str(image_path))\n",
        "        image = resize_image(image, size=(int(image.shape[0]/4),int(image.shape[1]/4)))\n",
        "\n",
        "        mask = inpaint_text(image,pipeline)\n",
        "\n",
        "        img_rgb = cv2.cvtColor(mask, cv2.COLOR_BGR2RGB)\n",
        "\n",
        "        mask = kmeans(img_rgb)\n",
        "        cv2.imwrite(str(new_plant_dir_path)+\"/\"+os.path.basename(image_path),mask)\n",
        "\n",
        "  return \"ok\""
      ]
    },
    {
      "cell_type": "markdown",
      "metadata": {
        "id": "CQO6mA3iBJf9"
      },
      "source": [
        "\n",
        "Lancement du preprocessing"
      ]
    },
    {
      "cell_type": "code",
      "execution_count": null,
      "metadata": {
        "id": "CtzLT5yJUFZV"
      },
      "outputs": [],
      "source": [
        "preprocess_dataset(pathlib.Path('/content/Projet-deep-learning-2022/dataset/'))"
      ]
    }
  ],
  "metadata": {
    "accelerator": "GPU",
    "colab": {
      "provenance": []
    },
    "gpuClass": "standard",
    "kernelspec": {
      "display_name": "Python 3.10.6 ('visual_computing')",
      "language": "python",
      "name": "python3"
    },
    "language_info": {
      "codemirror_mode": {
        "name": "ipython",
        "version": 3
      },
      "file_extension": ".py",
      "mimetype": "text/x-python",
      "name": "python",
      "nbconvert_exporter": "python",
      "pygments_lexer": "ipython3",
      "version": "3.10.6"
    },
    "vscode": {
      "interpreter": {
        "hash": "d48019c0dcc6fdd287a04f8376d78508d4b9ad0fa1b40e4838da1c19c53f21de"
      }
    }
  },
  "nbformat": 4,
  "nbformat_minor": 0
}
