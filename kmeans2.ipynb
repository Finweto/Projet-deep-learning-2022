{
  "cells": [
    {
      "cell_type": "code",
      "source": [
        "!pip install keras-ocr"
      ],
      "metadata": {
        "colab": {
          "base_uri": "https://localhost:8080/"
        },
        "id": "W9xXCq-hgWYC",
        "outputId": "4cf3b0c1-553e-4cd7-8fc8-b824c00e3779"
      },
      "execution_count": 7,
      "outputs": [
        {
          "output_type": "stream",
          "name": "stdout",
          "text": [
            "Looking in indexes: https://pypi.org/simple, https://us-python.pkg.dev/colab-wheels/public/simple/\n",
            "Collecting keras-ocr\n",
            "  Downloading keras_ocr-0.9.1-py3-none-any.whl (42 kB)\n",
            "\u001b[K     |████████████████████████████████| 42 kB 854 kB/s \n",
            "\u001b[?25hRequirement already satisfied: editdistance in /usr/local/lib/python3.8/dist-packages (from keras-ocr) (0.5.3)\n",
            "Requirement already satisfied: imgaug in /usr/local/lib/python3.8/dist-packages (from keras-ocr) (0.4.0)\n",
            "Collecting fonttools\n",
            "  Downloading fonttools-4.38.0-py3-none-any.whl (965 kB)\n",
            "\u001b[K     |████████████████████████████████| 965 kB 11.1 MB/s \n",
            "\u001b[?25hCollecting efficientnet==1.0.0\n",
            "  Downloading efficientnet-1.0.0-py3-none-any.whl (17 kB)\n",
            "Collecting essential_generators\n",
            "  Downloading essential_generators-1.0-py3-none-any.whl (9.5 MB)\n",
            "\u001b[K     |████████████████████████████████| 9.5 MB 47.1 MB/s \n",
            "\u001b[?25hRequirement already satisfied: tqdm in /usr/local/lib/python3.8/dist-packages (from keras-ocr) (4.64.1)\n",
            "Requirement already satisfied: shapely in /usr/local/lib/python3.8/dist-packages (from keras-ocr) (1.8.5.post1)\n",
            "Collecting validators\n",
            "  Downloading validators-0.20.0.tar.gz (30 kB)\n",
            "Collecting pyclipper\n",
            "  Downloading pyclipper-1.3.0.post4-cp38-cp38-manylinux_2_5_x86_64.manylinux1_x86_64.whl (619 kB)\n",
            "\u001b[K     |████████████████████████████████| 619 kB 63.8 MB/s \n",
            "\u001b[?25hRequirement already satisfied: scikit-image in /usr/local/lib/python3.8/dist-packages (from efficientnet==1.0.0->keras-ocr) (0.18.3)\n",
            "Collecting keras-applications<=1.0.8,>=1.0.7\n",
            "  Downloading Keras_Applications-1.0.8-py3-none-any.whl (50 kB)\n",
            "\u001b[K     |████████████████████████████████| 50 kB 5.8 MB/s \n",
            "\u001b[?25hRequirement already satisfied: numpy>=1.9.1 in /usr/local/lib/python3.8/dist-packages (from keras-applications<=1.0.8,>=1.0.7->efficientnet==1.0.0->keras-ocr) (1.21.6)\n",
            "Requirement already satisfied: h5py in /usr/local/lib/python3.8/dist-packages (from keras-applications<=1.0.8,>=1.0.7->efficientnet==1.0.0->keras-ocr) (3.1.0)\n",
            "Requirement already satisfied: Pillow in /usr/local/lib/python3.8/dist-packages (from imgaug->keras-ocr) (7.1.2)\n",
            "Requirement already satisfied: imageio in /usr/local/lib/python3.8/dist-packages (from imgaug->keras-ocr) (2.9.0)\n",
            "Requirement already satisfied: six in /usr/local/lib/python3.8/dist-packages (from imgaug->keras-ocr) (1.15.0)\n",
            "Requirement already satisfied: opencv-python in /usr/local/lib/python3.8/dist-packages (from imgaug->keras-ocr) (4.6.0.66)\n",
            "Requirement already satisfied: scipy in /usr/local/lib/python3.8/dist-packages (from imgaug->keras-ocr) (1.7.3)\n",
            "Requirement already satisfied: matplotlib in /usr/local/lib/python3.8/dist-packages (from imgaug->keras-ocr) (3.2.2)\n",
            "Requirement already satisfied: PyWavelets>=1.1.1 in /usr/local/lib/python3.8/dist-packages (from scikit-image->efficientnet==1.0.0->keras-ocr) (1.3.0)\n",
            "Requirement already satisfied: networkx>=2.0 in /usr/local/lib/python3.8/dist-packages (from scikit-image->efficientnet==1.0.0->keras-ocr) (2.6.3)\n",
            "Requirement already satisfied: tifffile>=2019.7.26 in /usr/local/lib/python3.8/dist-packages (from scikit-image->efficientnet==1.0.0->keras-ocr) (2021.11.2)\n",
            "Requirement already satisfied: cycler>=0.10 in /usr/local/lib/python3.8/dist-packages (from matplotlib->imgaug->keras-ocr) (0.11.0)\n",
            "Requirement already satisfied: python-dateutil>=2.1 in /usr/local/lib/python3.8/dist-packages (from matplotlib->imgaug->keras-ocr) (2.8.2)\n",
            "Requirement already satisfied: pyparsing!=2.0.4,!=2.1.2,!=2.1.6,>=2.0.1 in /usr/local/lib/python3.8/dist-packages (from matplotlib->imgaug->keras-ocr) (3.0.9)\n",
            "Requirement already satisfied: kiwisolver>=1.0.1 in /usr/local/lib/python3.8/dist-packages (from matplotlib->imgaug->keras-ocr) (1.4.4)\n",
            "Requirement already satisfied: decorator>=3.4.0 in /usr/local/lib/python3.8/dist-packages (from validators->keras-ocr) (4.4.2)\n",
            "Building wheels for collected packages: validators\n",
            "  Building wheel for validators (setup.py) ... \u001b[?25l\u001b[?25hdone\n",
            "  Created wheel for validators: filename=validators-0.20.0-py3-none-any.whl size=19581 sha256=23c3ea85d308b50fb84c3b79b066ed72aa78b5cfd6b5ccf68ad66baa88f82448\n",
            "  Stored in directory: /root/.cache/pip/wheels/19/09/72/3eb74d236bb48bd0f3c6c3c83e4e0c5bbfcbcad7c6c3539db8\n",
            "Successfully built validators\n",
            "Installing collected packages: keras-applications, validators, pyclipper, fonttools, essential-generators, efficientnet, keras-ocr\n",
            "Successfully installed efficientnet-1.0.0 essential-generators-1.0 fonttools-4.38.0 keras-applications-1.0.8 keras-ocr-0.9.1 pyclipper-1.3.0.post4 validators-0.20.0\n"
          ]
        }
      ]
    },
    {
      "cell_type": "code",
      "execution_count": 8,
      "metadata": {
        "id": "GFvLKReeFx7w"
      },
      "outputs": [],
      "source": [
        "import cv2\n",
        "import numpy as np\n",
        "from google.colab.patches import cv2_imshow\n",
        "import matplotlib.pyplot as plt\n",
        "\n",
        "import matplotlib.pyplot as plt\n",
        "import keras_ocr\n",
        "import math"
      ]
    },
    {
      "cell_type": "code",
      "execution_count": 9,
      "metadata": {
        "colab": {
          "base_uri": "https://localhost:8080/"
        },
        "id": "euYehMmjGMAX",
        "outputId": "7db4222e-9b66-4deb-c7fe-4a47e6d92e2b"
      },
      "outputs": [
        {
          "output_type": "stream",
          "name": "stdout",
          "text": [
            "Drive already mounted at /content/drive; to attempt to forcibly remount, call drive.mount(\"/content/drive\", force_remount=True).\n"
          ]
        }
      ],
      "source": [
        "from google.colab import drive\n",
        "drive.mount('/content/drive')"
      ]
    },
    {
      "cell_type": "code",
      "source": [
        "def resize_image(img, size=(28,28)):\n",
        "\n",
        "    h, w = img.shape[:2]\n",
        "    c = img.shape[2] if len(img.shape)>2 else 1\n",
        "\n",
        "    if h == w: \n",
        "        return cv2.resize(img, size, cv2.INTER_AREA)\n",
        "\n",
        "    dif = h if h > w else w\n",
        "\n",
        "    interpolation = cv2.INTER_AREA if dif > (size[0]+size[1])//2 else cv2.INTER_CUBIC\n",
        "\n",
        "    x_pos = (dif - w)//2\n",
        "    y_pos = (dif - h)//2\n",
        "\n",
        "    if len(img.shape) == 2:\n",
        "        mask = np.zeros((dif, dif), dtype=img.dtype)\n",
        "        mask[y_pos:y_pos+h, x_pos:x_pos+w] = img[:h, :w]\n",
        "    else:\n",
        "        mask = np.zeros((dif, dif, c), dtype=img.dtype)\n",
        "        mask[y_pos:y_pos+h, x_pos:x_pos+w, :] = img[:h, :w, :]\n",
        "\n",
        "    return cv2.resize(mask, size, interpolation)"
      ],
      "metadata": {
        "id": "xrVceL8VnjQy"
      },
      "execution_count": 10,
      "outputs": []
    },
    {
      "cell_type": "code",
      "execution_count": 11,
      "metadata": {
        "id": "X51S9W9uFx7z"
      },
      "outputs": [],
      "source": [
        "def kmeans(img):\n",
        "  img = resize_image(img, size=(int(img.shape[0]/4),int(img.shape[1]/4)))\n",
        "\n",
        "\n",
        "  # converting to LAB color space\n",
        "  lab= cv2.cvtColor(img, cv2.COLOR_BGR2LAB)\n",
        "  l_channel, a, b = cv2.split(lab)\n",
        "\n",
        "  # Applying CLAHE to L-channel\n",
        "  # feel free to try different values for the limit and grid size:\n",
        "  clahe = cv2.createCLAHE(clipLimit=2.0, tileGridSize=(8,8))\n",
        "  cl = clahe.apply(l_channel)\n",
        "\n",
        "  # merge the CLAHE enhanced L-channel with the a and b channel\n",
        "  limg = cv2.merge((cl,a,b))\n",
        "\n",
        "  # Converting image from LAB Color model to BGR color spcae\n",
        "  enhanced_img = cv2.cvtColor(limg, cv2.COLOR_LAB2BGR)\n",
        "\n",
        "  # Stacking the original image with the enhanced image\n",
        "  result = np.hstack((img, enhanced_img))\n",
        "\n",
        "  Z = result.reshape((-1,3))\n",
        "  # convert to np.float32\n",
        "  Z = np.float32(Z)\n",
        "  # define criteria, number of clusters(K) and apply kmeans()\n",
        "  criteria = (cv2.TERM_CRITERIA_EPS + cv2.TERM_CRITERIA_MAX_ITER, 10, 1.0)\n",
        "\n",
        "  K = 3\n",
        "\n",
        "  attemps = 10\n",
        "  #ret,label,centers=cv2.kmeans(Z,K,None,criteria,10,cv2.KMEANS_RANDOM_CENTERS)\n",
        "  _,labels,(centers)=cv2.kmeans(Z, K, None, criteria, 10, cv2.KMEANS_RANDOM_CENTERS)\n",
        "  # Now convert back into uint8, and make original image\n",
        "  centers = np.uint8(centers)\n",
        "  res = centers[labels.flatten()]\n",
        "  res2 = res.reshape((result.shape))\n",
        "\n",
        "  return res2"
      ]
    },
    {
      "cell_type": "code",
      "source": [
        "\n",
        "\n",
        "def midpoint(x1, y1, x2, y2):\n",
        "    x_mid = int((x1 + x2)/2)\n",
        "    y_mid = int((y1 + y2)/2)\n",
        "    return (x_mid, y_mid)\n",
        "\n",
        "def inpaint_text(img_path, pipeline):\n",
        "    # read image\n",
        "    img = keras_ocr.tools.read(img_path)\n",
        "    # generate (word, box) tuples \n",
        "    prediction_groups = pipeline.recognize([img])\n",
        "    mask = np.zeros(img.shape[:2], dtype=\"uint8\")\n",
        "    for box in prediction_groups[0]:\n",
        "        x0, y0 = box[1][0]\n",
        "        x1, y1 = box[1][1] \n",
        "        x2, y2 = box[1][2]\n",
        "        x3, y3 = box[1][3] \n",
        "        \n",
        "        x_mid0, y_mid0 = midpoint(x1, y1, x2, y2)\n",
        "        x_mid1, y_mi1 = midpoint(x0, y0, x3, y3)\n",
        "        \n",
        "        thickness = int(math.sqrt( (x2 - x1)**2 + (y2 - y1)**2 ))\n",
        "        \n",
        "        cv2.line(mask, (x_mid0, y_mid0), (x_mid1, y_mi1), 255,    \n",
        "        thickness)\n",
        "        img = cv2.inpaint(img, mask, 7, cv2.INPAINT_NS)\n",
        "                 \n",
        "    return(img)"
      ],
      "metadata": {
        "id": "KDPBCWSsgSci"
      },
      "execution_count": 12,
      "outputs": []
    },
    {
      "cell_type": "code",
      "source": [
        "image = cv2.imread('/content/drive/MyDrive/Projet/Train/amborella/amborella098.jpg')\n",
        "\n",
        "\n",
        "image = resize_image(image, size=(int(image.shape[0]/4),int(image.shape[1]/4)))\n",
        "pipeline = keras_ocr.pipeline.Pipeline()\n",
        "\n",
        "\n",
        "res = inpaint_text(image,pipeline)\n",
        "\n",
        "img_rgb = cv2.cvtColor(res, cv2.COLOR_BGR2RGB)\n",
        "cv2.imwrite('text_free_image.jpg',img_rgb)\n",
        "\n",
        "res = kmeans(img_rgb)\n",
        "cv2.imwrite('kmeans_im.jpg',res)\n",
        "cv2_imshow(res)"
      ],
      "metadata": {
        "colab": {
          "base_uri": "https://localhost:8080/",
          "height": 398
        },
        "id": "kavavxa9geWU",
        "outputId": "dd86b637-0158-4264-aee4-e510fff2578d"
      },
      "execution_count": 16,
      "outputs": [
        {
          "output_type": "stream",
          "name": "stdout",
          "text": [
            "Looking for /root/.keras-ocr/craft_mlt_25k.h5\n",
            "Looking for /root/.keras-ocr/crnn_kurapan.h5\n",
            "1/1 [==============================] - 31s 31s/step\n",
            "2/2 [==============================] - 12s 4s/step\n"
          ]
        },
        {
          "output_type": "display_data",
          "data": {
            "text/plain": [
              "<PIL.Image.Image image mode=RGB size=396x310 at 0x7F242C638B50>"
            ],
            "image/png": "[encoded data removed]"
          },
          "metadata": {}
        }
      ]
    },
    {
      "cell_type": "code",
      "source": [],
      "metadata": {
        "id": "gfilYsSxhIei"
      },
      "execution_count": null,
      "outputs": []
    }
  ],
  "metadata": {
    "colab": {
      "provenance": []
    },
    "gpuClass": "standard",
    "kernelspec": {
      "display_name": "Python 3.10.6 ('visual_computing')",
      "language": "python",
      "name": "python3"
    },
    "language_info": {
      "codemirror_mode": {
        "name": "ipython",
        "version": 3
      },
      "file_extension": ".py",
      "mimetype": "text/x-python",
      "name": "python",
      "nbconvert_exporter": "python",
      "pygments_lexer": "ipython3",
      "version": "3.10.6"
    },
    "vscode": {
      "interpreter": {
        "hash": "d48019c0dcc6fdd287a04f8376d78508d4b9ad0fa1b40e4838da1c19c53f21de"
      }
    }
  },
  "nbformat": 4,
  "nbformat_minor": 0
}