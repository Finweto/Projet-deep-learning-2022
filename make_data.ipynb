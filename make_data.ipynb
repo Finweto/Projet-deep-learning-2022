{
 "cells": [
  {
   "cell_type": "markdown",
   "metadata": {},
   "source": [
    "Ce fichier permet de créer les datasets labélisés à partir des dossiers d'images et du csv des labels d'espèces"
   ]
  },
  {
   "cell_type": "code",
   "execution_count": 1,
   "metadata": {},
   "outputs": [
    {
     "name": "stdout",
     "output_type": "stream",
     "text": [
      "             label   bord phyllotaxie type_feuille ligneux\n",
      "0   convolvulaceae  lisse     alterne       simple     non\n",
      "1      monimiaceae  lisse      oppose       simple     oui\n",
      "2        amborella  lisse     alterne       simple     oui\n",
      "3         castanea  dente     alterne       simple     oui\n",
      "4        desmodium  lisse     alterne     composee     non\n",
      "5          eugenia  lisse      oppose       simple     oui\n",
      "6           laurus  lisse      oppose       simple     oui\n",
      "7           litsea  lisse     alterne       simple     oui\n",
      "8         magnolia  lisse     alterne       simple     oui\n",
      "9            rubus  dente     alterne     composee     oui\n",
      "10           ulmus  dente     alterne       simple     oui\n"
     ]
    }
   ],
   "source": [
    "import pandas as pd\n",
    "\n",
    "data_labels=pd.read_csv('data_especes.csv')\n",
    "\n",
    "print(data_labels)"
   ]
  },
  {
   "cell_type": "code",
   "execution_count": 2,
   "metadata": {},
   "outputs": [],
   "source": [
    "import os\n",
    "import pathlib\n",
    "import cv2"
   ]
  },
  {
   "cell_type": "code",
   "execution_count": 3,
   "metadata": {},
   "outputs": [
    {
     "name": "stdout",
     "output_type": "stream",
     "text": [
      "['convolvulaceae', 'monimiaceae', 'amborella', 'castanea', 'desmodium', 'eugenia', 'laurus', 'litsea', 'magnolia', 'rubus', 'ulmus']\n"
     ]
    }
   ],
   "source": [
    "label_names=data_labels[\"label\"]\n",
    "label_names=label_names.to_list()\n",
    "\n",
    "print(label_names)"
   ]
  },
  {
   "cell_type": "code",
   "execution_count": 4,
   "metadata": {},
   "outputs": [],
   "source": [
    "def get_images(dir_path: pathlib.Path):\n",
    "\n",
    "  df=pd.DataFrame({})\n",
    "  images = []\n",
    "  labels = []\n",
    "  file_paths  = []\n",
    "\n",
    "  for subdir_path in dir_path.iterdir():\n",
    "\n",
    "    label = os.path.basename(subdir_path)\n",
    "\n",
    "    for image_path in subdir_path.iterdir():\n",
    "      #image = cv2.imread(str(image_path))\n",
    "\n",
    "      #image = cv2.cvtColor(image, cv2.COLOR_BGR2RGB)\n",
    "\n",
    "      ###### TO DO : FONCTION DE RESIZE #########\n",
    "      \n",
    "      images.append(\"oui\")\n",
    "      file_paths.append(image_path)\n",
    "      labels.append(label)\n",
    "\n",
    "  #df[\"image\"]=images\n",
    "  df[\"label\"]=labels\n",
    "  df[\"img_path\"]=file_paths\n",
    "\n",
    "  return df\n",
    "\n",
    "def add_labels(df):\n",
    "  bord=[]\n",
    "  phyll=[]\n",
    "  type_f=[]\n",
    "  ligneux=[]\n",
    "  for row in range(len(df['label'])):\n",
    "      label=df['label'][row]\n",
    "      label_index=label_names.index(label)\n",
    "      bord.append(data_labels['bord'][label_index])\n",
    "      phyll.append(data_labels['phyllotaxie'][label_index])\n",
    "      type_f.append(data_labels['type_feuille'][label_index])\n",
    "      ligneux.append(data_labels['ligneux'][label_index])\n",
    "\n",
    "  df['bord']=bord\n",
    "  df['phyllotaxie']=phyll\n",
    "  df['type_feuille']=type_f\n",
    "  df['ligneux']=ligneux\n",
    "\n",
    "  print(df.head(2))\n",
    "  return(df)"
   ]
  },
  {
   "cell_type": "markdown",
   "metadata": {},
   "source": [
    "On va créer un dataframe final avec tous les labels utiles"
   ]
  },
  {
   "cell_type": "code",
   "execution_count": 6,
   "metadata": {},
   "outputs": [
    {
     "name": "stdout",
     "output_type": "stream",
     "text": [
      "      label                                          img_path   bord  \\\n",
      "0  castanea  dataset_processed/Train/castanea/castarea096.jpg  dente   \n",
      "1  castanea  dataset_processed/Train/castanea/castarea100.jpg  dente   \n",
      "\n",
      "  phyllotaxie type_feuille ligneux  \n",
      "0     alterne       simple     oui  \n",
      "1     alterne       simple     oui  \n",
      "      label                                         img_path   bord  \\\n",
      "0  castanea  dataset_processed/Test/castanea/castarea077.jpg  dente   \n",
      "1  castanea  dataset_processed/Test/castanea/castarea079.jpg  dente   \n",
      "\n",
      "  phyllotaxie type_feuille ligneux  \n",
      "0     alterne       simple     oui  \n",
      "1     alterne       simple     oui  \n"
     ]
    }
   ],
   "source": [
    "df_train=get_images(pathlib.Path(\"dataset_processed\") / \"Train\")\n",
    "df_train=add_labels(df_train)\n",
    "df_train.to_csv('data_train_labeled.csv')\n",
    "\n",
    "df_test=get_images(pathlib.Path(\"dataset_processed\") / \"Test\")\n",
    "df_test=add_labels(df_test)\n",
    "df_test.to_csv('data_test_labeled.csv')"
   ]
  }
 ],
 "metadata": {
  "kernelspec": {
   "display_name": "Python 3.8.10 64-bit",
   "language": "python",
   "name": "python3"
  },
  "language_info": {
   "codemirror_mode": {
    "name": "ipython",
    "version": 3
   },
   "file_extension": ".py",
   "mimetype": "text/x-python",
   "name": "python",
   "nbconvert_exporter": "python",
   "pygments_lexer": "ipython3",
   "version": "3.8.10"
  },
  "orig_nbformat": 4,
  "vscode": {
   "interpreter": {
    "hash": "31f2aee4e71d21fbe5cf8b01ff0e069b9275f58929596ceb00d14d90e3e16cd6"
   }
  }
 },
 "nbformat": 4,
 "nbformat_minor": 2
}
