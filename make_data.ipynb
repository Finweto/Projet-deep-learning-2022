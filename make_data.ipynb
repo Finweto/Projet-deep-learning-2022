{
 "cells": [
  {
   "cell_type": "markdown",
   "metadata": {},
   "source": [
    "### Data Processing"
   ]
  },
  {
   "cell_type": "markdown",
   "metadata": {},
   "source": [
    "Ce fichier permet de créer les datasets labélisés à partir des dossiers d'images et du csv des labels d'espèces"
   ]
  },
  {
   "cell_type": "markdown",
   "metadata": {},
   "source": [
    "##### Imports"
   ]
  },
  {
   "cell_type": "code",
   "execution_count": null,
   "metadata": {},
   "outputs": [],
   "source": [
    "import pandas as pd\n",
    "import os\n",
    "import pathlib\n",
    "import cv2"
   ]
  },
  {
   "cell_type": "code",
   "execution_count": null,
   "metadata": {},
   "outputs": [],
   "source": [
    "!git clone -b dev https://github.com/Finweto/Projet-deep-learning-2022.git\n",
    "!ls"
   ]
  },
  {
   "cell_type": "markdown",
   "metadata": {},
   "source": [
    "#### Préparation de données"
   ]
  },
  {
   "cell_type": "code",
   "execution_count": 1,
   "metadata": {},
   "outputs": [
    {
     "name": "stdout",
     "output_type": "stream",
     "text": [
      "             label   bord phyllotaxie type_feuille ligneux\n",
      "0   convolvulaceae  lisse     alterne       simple     non\n",
      "1      monimiaceae  lisse      oppose       simple     oui\n",
      "2        amborella  lisse     alterne       simple     oui\n",
      "3         castanea  dente     alterne       simple     oui\n",
      "4        desmodium  lisse     alterne     composee     non\n",
      "5          eugenia  lisse      oppose       simple     oui\n",
      "6           laurus  lisse      oppose       simple     oui\n",
      "7           litsea  lisse     alterne       simple     oui\n",
      "8         magnolia  lisse     alterne       simple     oui\n",
      "9            rubus  dente     alterne     composee     oui\n",
      "10           ulmus  dente     alterne       simple     oui\n"
     ]
    }
   ],
   "source": [
    "# lecture du csv contenant tous les labels et leur caractéristiques créé manuellement au début du projet\n",
    "data_labels=pd.read_csv('data_especes.csv')\n",
    "\n",
    "print(data_labels)"
   ]
  },
  {
   "cell_type": "code",
   "execution_count": 3,
   "metadata": {},
   "outputs": [
    {
     "name": "stdout",
     "output_type": "stream",
     "text": [
      "['convolvulaceae', 'monimiaceae', 'amborella', 'castanea', 'desmodium', 'eugenia', 'laurus', 'litsea', 'magnolia', 'rubus', 'ulmus']\n"
     ]
    }
   ],
   "source": [
    "label_names=data_labels[\"label\"]\n",
    "label_names=label_names.to_list()\n",
    "\n",
    "print(label_names)"
   ]
  },
  {
   "cell_type": "markdown",
   "metadata": {},
   "source": [
    "#### Fonctions "
   ]
  },
  {
   "cell_type": "code",
   "execution_count": 4,
   "metadata": {},
   "outputs": [],
   "source": [
    "# fonction permettant d'extraire toutes les images de notre Dataset et d'enregistrer le label (type de plante) \n",
    "# et le chemin (chemin dans le répertoire) dans un Dataframe\n",
    "def get_images(dir_path: pathlib.Path):\n",
    "\n",
    "  # création du Dataframe\n",
    "  df=pd.DataFrame({})\n",
    "\n",
    "  labels = []\n",
    "  file_paths  = []\n",
    "\n",
    "  for subdir_path in dir_path.iterdir():\n",
    "\n",
    "    # on recupère le label avec le nom du sous repertoire dans le Dataset\n",
    "    label = os.path.basename(subdir_path)\n",
    "\n",
    "    for image_path in subdir_path.iterdir():\n",
    "      labels.append(label)\n",
    "      file_paths.append(image_path)\n",
    "\n",
    "  # remplissage du Dataframe\n",
    "  df[\"label\"]=labels\n",
    "  df[\"img_path\"]=file_paths\n",
    "\n",
    "  return df\n",
    "\n",
    "# fonction permettant d'ajouter au précedent Dataframe les caractéristiques de chaque label (feuille dentée, lisse...)\n",
    "def add_labels(df):\n",
    "  bord=[]\n",
    "  phyll=[]\n",
    "  type_f=[]\n",
    "  ligneux=[]\n",
    "\n",
    "  for row in range(len(df['label'])):\n",
    "      label=df['label'][row]\n",
    "      label_index=label_names.index(label)\n",
    "      bord.append(data_labels['bord'][label_index])\n",
    "      phyll.append(data_labels['phyllotaxie'][label_index])\n",
    "      type_f.append(data_labels['type_feuille'][label_index])\n",
    "      ligneux.append(data_labels['ligneux'][label_index])\n",
    "\n",
    "  df['bord']=bord\n",
    "  df['phyllotaxie']=phyll\n",
    "  df['type_feuille']=type_f\n",
    "  df['ligneux']=ligneux\n",
    "\n",
    "  print(df.head(2))\n",
    "  \n",
    "  return(df)"
   ]
  },
  {
   "cell_type": "markdown",
   "metadata": {},
   "source": [
    "#### Création des Dataset finaux  [`data_train_labeled.csv`]  et  [`data_test_labeled.csv`]"
   ]
  },
  {
   "cell_type": "code",
   "execution_count": 5,
   "metadata": {},
   "outputs": [
    {
     "name": "stdout",
     "output_type": "stream",
     "text": [
      "    label                                         img_path   bord phyllotaxie  \\\n",
      "0  litsea  dataset_processed_v2/Train/litsea/litsea100.jpg  lisse     alterne   \n",
      "1  litsea  dataset_processed_v2/Train/litsea/litsea099.jpg  lisse     alterne   \n",
      "\n",
      "  type_feuille ligneux  \n",
      "0       simple     oui  \n",
      "1       simple     oui  \n",
      "         label                                           img_path   bord  \\\n",
      "0  monimiaceae  dataset_processed_v2/Test/monimiaceae/monimiac...  lisse   \n",
      "1  monimiaceae  dataset_processed_v2/Test/monimiaceae/monimiac...  lisse   \n",
      "\n",
      "  phyllotaxie type_feuille ligneux  \n",
      "0      oppose       simple     oui  \n",
      "1      oppose       simple     oui  \n"
     ]
    }
   ],
   "source": [
    "df_train=get_images(pathlib.Path(\"dataset_processed_v2\") / \"Train\")\n",
    "df_train=add_labels(df_train)\n",
    "\n",
    "df_test=get_images(pathlib.Path(\"dataset_processed_v2\") / \"Test\")\n",
    "df_test=add_labels(df_test)\n",
    "\n",
    "# export des Dataframe dans notre environnement de travail\n",
    "df_train.to_csv('data_train_labeled.csv')\n",
    "df_test.to_csv('data_test_labeled.csv')"
   ]
  }
 ],
 "metadata": {
  "kernelspec": {
   "display_name": "Python 3.8.10 64-bit",
   "language": "python",
   "name": "python3"
  },
  "language_info": {
   "codemirror_mode": {
    "name": "ipython",
    "version": 3
   },
   "file_extension": ".py",
   "mimetype": "text/x-python",
   "name": "python",
   "nbconvert_exporter": "python",
   "pygments_lexer": "ipython3",
   "version": "3.8.10"
  },
  "orig_nbformat": 4,
  "vscode": {
   "interpreter": {
    "hash": "31f2aee4e71d21fbe5cf8b01ff0e069b9275f58929596ceb00d14d90e3e16cd6"
   }
  }
 },
 "nbformat": 4,
 "nbformat_minor": 2
}
