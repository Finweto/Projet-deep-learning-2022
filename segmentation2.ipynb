{
 "cells": [
  {
   "cell_type": "code",
   "execution_count": 3,
   "metadata": {},
   "outputs": [],
   "source": [
    "import cv2\n",
    "import numpy as np"
   ]
  },
  {
   "cell_type": "code",
   "execution_count": 4,
   "metadata": {},
   "outputs": [],
   "source": [
    "def delete_small_contours(contours):\n",
    "    new_contours = []\n",
    "    for contour in contours:\n",
    "        if(cv2.contourArea(contour) > 10):\n",
    "            new_contours.append(contour)\n",
    "    return new_contours\n",
    "\n",
    "def resize_image(img, size=(28,28)):\n",
    "\n",
    "    h, w = img.shape[:2]\n",
    "    c = img.shape[2] if len(img.shape)>2 else 1\n",
    "\n",
    "    if h == w: \n",
    "        return cv2.resize(img, size, cv2.INTER_AREA)\n",
    "\n",
    "    dif = h if h > w else w\n",
    "\n",
    "    interpolation = cv2.INTER_AREA if dif > (size[0]+size[1])//2 else cv2.INTER_CUBIC\n",
    "\n",
    "    x_pos = (dif - w)//2\n",
    "    y_pos = (dif - h)//2\n",
    "\n",
    "    if len(img.shape) == 2:\n",
    "        mask = np.zeros((dif, dif), dtype=img.dtype)\n",
    "        mask[y_pos:y_pos+h, x_pos:x_pos+w] = img[:h, :w]\n",
    "    else:\n",
    "        mask = np.zeros((dif, dif, c), dtype=img.dtype)\n",
    "        mask[y_pos:y_pos+h, x_pos:x_pos+w, :] = img[:h, :w, :]\n",
    "\n",
    "    return cv2.resize(mask, size, interpolation)"
   ]
  },
  {
   "cell_type": "code",
   "execution_count": 49,
   "metadata": {},
   "outputs": [
    {
     "name": "stdout",
     "output_type": "stream",
     "text": [
      "(820, 1293, 3)\n",
      "[[      0 6722551]\n",
      " [      1 2186772]\n",
      " [      2 1634470]\n",
      " [      3 5047540]\n",
      " [      4 1393017]]\n",
      "(130, 192, 214)\n",
      "2.6610169491525424\n",
      "1.5737704918032787\n"
     ]
    },
    {
     "ename": "",
     "evalue": "",
     "output_type": "error",
     "traceback": [
      "\u001b[1;31mLe Kernel s’est bloqué lors de l’exécution du code dans la cellule active ou une cellule précédente. Veuillez vérifier le code dans la ou les cellules pour identifier une cause possible de l’échec. Cliquez <a href='https://aka.ms/vscodeJupyterKernelCrash'>ici</a> pour plus d’informations. Pour plus d’informations, consultez Jupyter <a href='command:jupyter.viewOutput'>log</a>."
     ]
    }
   ],
   "source": [
    "import cv2 \n",
    "import numpy as np \n",
    "image2 = cv2.imread('amborella081.jpg')\n",
    "image2 = resize_image(image2, size=(int(image2.shape[0]/4),int(image2.shape[1]/4)))\n",
    "print(image2.shape)\n",
    "img_gray2 = cv2.cvtColor(image2, cv2.COLOR_BGR2GRAY)\n",
    "\n",
    "cv2.imshow('LIST',img_gray2)\n",
    "cv2.waitKey(0)\n",
    "cv2.destroyAllWindows()\n",
    "unique, counts = np.unique(img_gray2, return_counts=True)\n",
    "#print(np.asarray((unique, counts)).T)\n",
    "\n",
    "ret, thresh2 = cv2.threshold(img_gray2, 200, 255, cv2.THRESH_BINARY)\n",
    "\n",
    "contours4, hierarchy4 = cv2.findContours(thresh2, cv2.RETR_EXTERNAL, cv2.CHAIN_APPROX_SIMPLE)\n",
    "image_copy5 = img_gray2.copy()\n",
    "\n",
    "color = int(unique[np.argmax(counts)])\n",
    "cv2.drawContours(image_copy5, delete_small_contours(contours4), -1, (255,255,255), 2, cv2.LINE_AA)\n",
    "# see the results\n",
    "cv2.imshow('EXTERNAL', image_copy5)\n",
    "#print(f\"EXTERNAL: {hierarchy4}\")\n",
    "cv2.waitKey(0)\n",
    "cv2.imwrite('contours_retr_external.jpg', image_copy5)\n",
    "cv2.destroyAllWindows()\n",
    "\n",
    "\n",
    "img = cv2.imread('amborella081.jpg')\n",
    "Z = img.reshape((-1,3))\n",
    "# convert to np.float32\n",
    "Z = np.float32(Z)\n",
    "# define criteria, number of clusters(K) and apply kmeans()\n",
    "criteria = (cv2.TERM_CRITERIA_EPS + cv2.TERM_CRITERIA_MAX_ITER, 10, 1.0)\n",
    "K = 5\n",
    "\n",
    "attemps = 10\n",
    "ret,label,centers=cv2.kmeans(Z,K,None,criteria,10,cv2.KMEANS_RANDOM_CENTERS)\n",
    "# Now convert back into uint8, and make original image\n",
    "centers = np.uint8(centers)\n",
    "res = centers[label.flatten()]\n",
    "res2 = res.reshape((img.shape))\n",
    "\n",
    "image_copy6 = image2.copy()\n",
    "unique, counts = np.unique(label, return_counts=True)\n",
    "\n",
    "print(np.asarray((unique, counts)).T)\n",
    "color = (int(centers[np.argmax(counts)][0]),int(centers[np.argmax(counts)][1]),int(centers[np.argmax(counts)][2]))\n",
    "print(color)\n",
    "cv2.drawContours(image_copy6, delete_small_contours(contours4), -1, color, -1, cv2.LINE_AA)\n",
    "# see the results\n",
    "cv2.imshow('EXTERNAL', image_copy6)\n",
    "#print(f\"EXTERNAL: {hierarchy4}\")\n",
    "cv2.waitKey(0)\n",
    "cv2.imwrite('contours_retr_external.jpg', image_copy5)\n",
    "cv2.destroyAllWindows()\n",
    "img = image_copy6\n",
    "Z = img.reshape((-1,3))\n",
    "# convert to np.float32\n",
    "Z = np.float32(Z)\n",
    "# define criteria, number of clusters(K) and apply kmeans()\n",
    "criteria = (cv2.TERM_CRITERIA_EPS + cv2.TERM_CRITERIA_MAX_ITER, 10, 1.0)\n",
    "K = 2\n",
    "\n",
    "attemps = 10\n",
    "ret,label,centers=cv2.kmeans(Z,K,None,criteria,10,cv2.KMEANS_RANDOM_CENTERS)\n",
    "# Now convert back into uint8, and make original image\n",
    "centers = np.uint8(centers)\n",
    "res = centers[label.flatten()]\n",
    "res2 = res.reshape((img.shape))\n",
    "cv2.imshow('contours_retr_external.jpg', res2)\n",
    "cv2.waitKey(0)\n",
    "cv2.destroyAllWindows()\n",
    "\n",
    "img = image2.copy()\n",
    "\n",
    "\n",
    "for contour in delete_small_contours(contours4):\n",
    "    approx = cv2.approxPolyDP(contour, 0.01* cv2.arcLength(contour, True), True)\n",
    "    cv2.drawContours(img, [approx], 0, color, 5)\n",
    "    x = approx.ravel()[0]\n",
    "    y = approx.ravel()[1] - 5\n",
    "    if len(approx) == 3:\n",
    "        cv2.putText( img, \"Triangle\", (x, y), cv2.FONT_HERSHEY_COMPLEX, 0.5, (0, 0, 0) )\n",
    "    elif len(approx) == 4 :\n",
    "        x, y , w, h = cv2.boundingRect(approx)\n",
    "        aspectRatio = float(w)/h\n",
    "        print(aspectRatio)\n",
    "        if aspectRatio >= 0.95 and aspectRatio < 1.05:\n",
    "            cv2.putText(img, \"square\", (x, y), cv2.FONT_HERSHEY_COMPLEX, 0.5, (0, 0, 0))\n",
    "\n",
    "        else:\n",
    "            cv2.drawContours(img,[contour], -1, color, -1, cv2.LINE_AA)\n",
    "\n",
    "    elif len(approx) == 5 :\n",
    "        cv2.putText(img, \"pentagon\", (x, y), cv2.FONT_HERSHEY_COMPLEX, 0.5, (0, 0, 0))\n",
    "    elif len(approx) == 10 :\n",
    "        cv2.putText(img, \"star\", (x, y), cv2.FONT_HERSHEY_COMPLEX, 0.5, (0, 0, 0))\n",
    "    else:\n",
    "        cv2.drawContours(img,[contour], -1, color, -1, cv2.LINE_AA)\n",
    "\n",
    "\n",
    "cv2.imwrite('fixed/fixed image.jpg', img)\n",
    "\n",
    "\n",
    "\n",
    "\n",
    "\n"
   ]
  },
  {
   "cell_type": "code",
   "execution_count": 48,
   "metadata": {},
   "outputs": [
    {
     "name": "stdout",
     "output_type": "stream",
     "text": [
      "2.6610169491525424\n",
      "1.5737704918032787\n"
     ]
    }
   ],
   "source": [
    "\n",
    "\n"
   ]
  }
 ],
 "metadata": {
  "kernelspec": {
   "display_name": "Python 3.10.6 ('visual_computing')",
   "language": "python",
   "name": "python3"
  },
  "language_info": {
   "codemirror_mode": {
    "name": "ipython",
    "version": 3
   },
   "file_extension": ".py",
   "mimetype": "text/x-python",
   "name": "python",
   "nbconvert_exporter": "python",
   "pygments_lexer": "ipython3",
   "version": "3.10.6"
  },
  "orig_nbformat": 4,
  "vscode": {
   "interpreter": {
    "hash": "d48019c0dcc6fdd287a04f8376d78508d4b9ad0fa1b40e4838da1c19c53f21de"
   }
  }
 },
 "nbformat": 4,
 "nbformat_minor": 2
}
